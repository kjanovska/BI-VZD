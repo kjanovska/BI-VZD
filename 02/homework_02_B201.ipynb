{
 "cells": [
  {
   "cell_type": "markdown",
   "metadata": {},
   "source": [
    "# Úkol č. 2 - předzpracování dat a binární klasifikace (do 9. listopadu 23:59)\n",
    "\n",
    "  * V rámci tohoto úkolu se musíte vypořádat s příznaky, které jsou různých typů.\n",
    "  * Před tím, než na nich postavíte predikční model, je třeba je nějakým způsobem převést do číselné reprezentace.\n",
    "    \n",
    "> **Úkoly jsou zadány tak, aby Vám daly prostor pro invenci. Vymyslet _jak přesně_ budete úkol řešit, je důležitou součástí zadání a originalita či nápaditost bude také hodnocena!**\n",
    "\n",
    "## Zdroj dat\n",
    "\n",
    "Budeme se zabývat predikcí přežití pasažérů Titaniku.\n",
    "K dispozici máte trénovací data v souboru **data.csv** a data na vyhodnocení v souboru **evaluation.csv**.\n",
    "\n",
    "#### Seznam příznaků:\n",
    "* survived - zda přežil, 0 = Ne, 1 = Ano, **vysvětlovaná proměnná**, kterou chcete predikovat\n",
    "* pclass - Třída lodního lístku, 1 = první, 2 = druhá, 3 = třetí\n",
    "* name - jméno\n",
    "* sex - pohlaví\n",
    "* age - věk v letech\n",
    "* sibsp\t- počet sourozenců / manželů, manželek na palubě\n",
    "* parch - počet rodičů / dětí na palubě\n",
    "* ticket - číslo lodního lístku\n",
    "* fare - cena lodního lístku\n",
    "* cabin\t- číslo kajuty\n",
    "* embarked\t- místo nalodění, C = Cherbourg, Q = Queenstown, S = Southampton\n",
    "* home.dest - Bydliště/Cíl\n",
    "\n",
    "## Pokyny k vypracování\n",
    "\n",
    "**Základní body zadání**, za jejichž (poctivé) vypracování získáte **8 bodů**:\n",
    "  * V Jupyter notebooku načtěte data ze souboru **data.csv**. Vhodným způsobem si je rozdělte na podmnožiny vhodné k trénování modelu.\n",
    "  * Projděte si jednotlivé příznaky a transformujte je do vhodné podoby pro použití ve vybraném klasifikačním modelu.\n",
    "  * Podle potřeby si můžete vytvářet nové příznaky (na základě existujících), například tedy můžete vytvořit příznak měřící délku jména. Některé příznaky můžete také úplně zahodit.\n",
    "  * Nějakým způsobem se vypořádejte s chybějícími hodnotami.\n",
    "  * Následně si vyberte vhodný klasifikační model z přednášek. Najděte vhodné hyperparametry a určete jeho přesnost (accuracy) na trénovací množině. Také určete jeho přesnost na testovací množině.\n",
    "  * Načtěte vyhodnocovací data ze souboru **evaluation.csv**. Napočítejte predikce pro tyto data (vysvětlovaná proměnná v nich již není). Vytvořte **results.csv** soubor, ve kterém tyto predikce uložíte do dvou sloupců: ID, predikce přežití. Tento soubor nahrajte do repozitáře.\n",
    "  * Ukázka prvních řádků souboru *results.csv*:\n",
    "  \n",
    "```\n",
    "ID,survived\n",
    "1000,0\n",
    "1001,1\n",
    "...\n",
    "```\n",
    "\n",
    "**Další body zadání** za případné další body  (můžete si vybrat, maximum bodů za úkol je každopádně 12 bodů):\n",
    "  * (až +4 body) Aplikujte všechny klasifikační modely z přednášek a určete (na základě přesnosti na validační množině), který je nejlepší. Přesnost tohoto nejlepšího modelu odhadněte pomocí křížové validace. K predikcím na vyhodnocovacích datech využijte tento model.\n",
    "  * (až +4 body) Zkuste použít nějaké (alespoň dvě) netriviální metody doplňování chybějících hodnot u věku. Zaměřte na vliv těchto metod na přesnost predikce výsledného modelu. K predikcím na vyhodnocovacích datech využijte ten přístup, který Vám vyjde jako nejlepší.\n",
    "\n",
    "## Poznámky k odevzdání\n",
    "\n",
    "  * Řiďte se pokyny ze stránky https://courses.fit.cvut.cz/BI-VZD/homeworks/index.html.\n",
    "  * Odevzdejte nejen Jupyter Notebook, ale i _csv_ soubor s predikcemi pro vyhodnocovací data (`results.csv`).\n",
    "  * Opravující Vám může umožnit úkol dodělat či opravit a získat tak další body. První verze je ale důležitá a bude-li odbytá, budete za to penalizováni**"
   ]
  },
  {
   "cell_type": "code",
   "execution_count": 1,
   "metadata": {},
   "outputs": [],
   "source": [
    "import math\n",
    "import pandas as pd\n",
    "import numpy as np\n",
    "from sklearn.tree import DecisionTreeClassifier\n",
    "from sklearn.model_selection import train_test_split, ParameterGrid, KFold\n",
    "import sklearn.metrics as metrics\n",
    "from sklearn.ensemble import RandomForestClassifier, AdaBoostClassifier\n",
    "from sklearn.neighbors import KNeighborsClassifier\n",
    "from sklearn.preprocessing import MinMaxScaler\n",
    "import matplotlib\n",
    "import matplotlib.pyplot as plt"
   ]
  },
  {
   "cell_type": "markdown",
   "metadata": {},
   "source": [
    "### Načtení dat ze souboru, jejich úprava a rozdělení"
   ]
  },
  {
   "cell_type": "code",
   "execution_count": 2,
   "metadata": {},
   "outputs": [],
   "source": [
    "# 1. nactete ze souboru data\n",
    "training_data = pd.read_csv('data.csv')"
   ]
  },
  {
   "cell_type": "code",
   "execution_count": 3,
   "metadata": {},
   "outputs": [
    {
     "data": {
      "text/plain": [
       "(1000, 13)"
      ]
     },
     "metadata": {},
     "output_type": "display_data"
    },
    {
     "data": {
      "text/html": [
       "<div>\n",
       "<style scoped>\n",
       "    .dataframe tbody tr th:only-of-type {\n",
       "        vertical-align: middle;\n",
       "    }\n",
       "\n",
       "    .dataframe tbody tr th {\n",
       "        vertical-align: top;\n",
       "    }\n",
       "\n",
       "    .dataframe thead th {\n",
       "        text-align: right;\n",
       "    }\n",
       "</style>\n",
       "<table border=\"1\" class=\"dataframe\">\n",
       "  <thead>\n",
       "    <tr style=\"text-align: right;\">\n",
       "      <th></th>\n",
       "      <th>ID</th>\n",
       "      <th>survived</th>\n",
       "      <th>pclass</th>\n",
       "      <th>name</th>\n",
       "      <th>sex</th>\n",
       "      <th>age</th>\n",
       "      <th>sibsp</th>\n",
       "      <th>parch</th>\n",
       "      <th>ticket</th>\n",
       "      <th>fare</th>\n",
       "      <th>cabin</th>\n",
       "      <th>embarked</th>\n",
       "      <th>home.dest</th>\n",
       "    </tr>\n",
       "  </thead>\n",
       "  <tbody>\n",
       "    <tr>\n",
       "      <th>0</th>\n",
       "      <td>0</td>\n",
       "      <td>1</td>\n",
       "      <td>3</td>\n",
       "      <td>Dorking, Mr. Edward Arthur</td>\n",
       "      <td>male</td>\n",
       "      <td>19.0</td>\n",
       "      <td>0</td>\n",
       "      <td>0</td>\n",
       "      <td>A/5. 10482</td>\n",
       "      <td>8.0500</td>\n",
       "      <td>NaN</td>\n",
       "      <td>S</td>\n",
       "      <td>England Oglesby, IL</td>\n",
       "    </tr>\n",
       "    <tr>\n",
       "      <th>1</th>\n",
       "      <td>1</td>\n",
       "      <td>1</td>\n",
       "      <td>2</td>\n",
       "      <td>Smith, Miss. Marion Elsie</td>\n",
       "      <td>female</td>\n",
       "      <td>40.0</td>\n",
       "      <td>0</td>\n",
       "      <td>0</td>\n",
       "      <td>31418</td>\n",
       "      <td>13.0000</td>\n",
       "      <td>NaN</td>\n",
       "      <td>S</td>\n",
       "      <td>NaN</td>\n",
       "    </tr>\n",
       "    <tr>\n",
       "      <th>2</th>\n",
       "      <td>2</td>\n",
       "      <td>0</td>\n",
       "      <td>3</td>\n",
       "      <td>Hegarty, Miss. Hanora \"Nora\"</td>\n",
       "      <td>female</td>\n",
       "      <td>18.0</td>\n",
       "      <td>0</td>\n",
       "      <td>0</td>\n",
       "      <td>365226</td>\n",
       "      <td>6.7500</td>\n",
       "      <td>NaN</td>\n",
       "      <td>Q</td>\n",
       "      <td>NaN</td>\n",
       "    </tr>\n",
       "    <tr>\n",
       "      <th>3</th>\n",
       "      <td>3</td>\n",
       "      <td>0</td>\n",
       "      <td>3</td>\n",
       "      <td>Sage, Mr. John George</td>\n",
       "      <td>male</td>\n",
       "      <td>NaN</td>\n",
       "      <td>1</td>\n",
       "      <td>9</td>\n",
       "      <td>CA. 2343</td>\n",
       "      <td>69.5500</td>\n",
       "      <td>NaN</td>\n",
       "      <td>S</td>\n",
       "      <td>NaN</td>\n",
       "    </tr>\n",
       "    <tr>\n",
       "      <th>4</th>\n",
       "      <td>4</td>\n",
       "      <td>0</td>\n",
       "      <td>3</td>\n",
       "      <td>Cacic, Miss. Marija</td>\n",
       "      <td>female</td>\n",
       "      <td>30.0</td>\n",
       "      <td>0</td>\n",
       "      <td>0</td>\n",
       "      <td>315084</td>\n",
       "      <td>8.6625</td>\n",
       "      <td>NaN</td>\n",
       "      <td>S</td>\n",
       "      <td>NaN</td>\n",
       "    </tr>\n",
       "  </tbody>\n",
       "</table>\n",
       "</div>"
      ],
      "text/plain": [
       "   ID  survived  pclass                          name     sex   age  sibsp  \\\n",
       "0   0         1       3    Dorking, Mr. Edward Arthur    male  19.0      0   \n",
       "1   1         1       2     Smith, Miss. Marion Elsie  female  40.0      0   \n",
       "2   2         0       3  Hegarty, Miss. Hanora \"Nora\"  female  18.0      0   \n",
       "3   3         0       3         Sage, Mr. John George    male   NaN      1   \n",
       "4   4         0       3           Cacic, Miss. Marija  female  30.0      0   \n",
       "\n",
       "   parch      ticket     fare cabin embarked            home.dest  \n",
       "0      0  A/5. 10482   8.0500   NaN        S  England Oglesby, IL  \n",
       "1      0       31418  13.0000   NaN        S                  NaN  \n",
       "2      0      365226   6.7500   NaN        Q                  NaN  \n",
       "3      9    CA. 2343  69.5500   NaN        S                  NaN  \n",
       "4      0      315084   8.6625   NaN        S                  NaN  "
      ]
     },
     "metadata": {},
     "output_type": "display_data"
    },
    {
     "name": "stdout",
     "output_type": "stream",
     "text": [
      "<class 'pandas.core.frame.DataFrame'>\n",
      "RangeIndex: 1000 entries, 0 to 999\n",
      "Data columns (total 13 columns):\n",
      " #   Column     Non-Null Count  Dtype  \n",
      "---  ------     --------------  -----  \n",
      " 0   ID         1000 non-null   int64  \n",
      " 1   survived   1000 non-null   int64  \n",
      " 2   pclass     1000 non-null   int64  \n",
      " 3   name       1000 non-null   object \n",
      " 4   sex        1000 non-null   object \n",
      " 5   age        797 non-null    float64\n",
      " 6   sibsp      1000 non-null   int64  \n",
      " 7   parch      1000 non-null   int64  \n",
      " 8   ticket     1000 non-null   object \n",
      " 9   fare       1000 non-null   float64\n",
      " 10  cabin      226 non-null    object \n",
      " 11  embarked   998 non-null    object \n",
      " 12  home.dest  554 non-null    object \n",
      "dtypes: float64(2), int64(5), object(6)\n",
      "memory usage: 101.7+ KB\n"
     ]
    },
    {
     "data": {
      "text/plain": [
       "None"
      ]
     },
     "metadata": {},
     "output_type": "display_data"
    },
    {
     "data": {
      "text/html": [
       "<div>\n",
       "<style scoped>\n",
       "    .dataframe tbody tr th:only-of-type {\n",
       "        vertical-align: middle;\n",
       "    }\n",
       "\n",
       "    .dataframe tbody tr th {\n",
       "        vertical-align: top;\n",
       "    }\n",
       "\n",
       "    .dataframe thead th {\n",
       "        text-align: right;\n",
       "    }\n",
       "</style>\n",
       "<table border=\"1\" class=\"dataframe\">\n",
       "  <thead>\n",
       "    <tr style=\"text-align: right;\">\n",
       "      <th></th>\n",
       "      <th>ID</th>\n",
       "      <th>survived</th>\n",
       "      <th>pclass</th>\n",
       "      <th>age</th>\n",
       "      <th>sibsp</th>\n",
       "      <th>parch</th>\n",
       "      <th>fare</th>\n",
       "    </tr>\n",
       "  </thead>\n",
       "  <tbody>\n",
       "    <tr>\n",
       "      <th>count</th>\n",
       "      <td>1000.000000</td>\n",
       "      <td>1000.000000</td>\n",
       "      <td>1000.000000</td>\n",
       "      <td>797.000000</td>\n",
       "      <td>1000.000000</td>\n",
       "      <td>1000.000000</td>\n",
       "      <td>1000.000000</td>\n",
       "    </tr>\n",
       "    <tr>\n",
       "      <th>mean</th>\n",
       "      <td>499.500000</td>\n",
       "      <td>0.393000</td>\n",
       "      <td>2.312000</td>\n",
       "      <td>29.342535</td>\n",
       "      <td>0.503000</td>\n",
       "      <td>0.396000</td>\n",
       "      <td>33.340479</td>\n",
       "    </tr>\n",
       "    <tr>\n",
       "      <th>std</th>\n",
       "      <td>288.819436</td>\n",
       "      <td>0.488661</td>\n",
       "      <td>0.832676</td>\n",
       "      <td>14.408116</td>\n",
       "      <td>1.029102</td>\n",
       "      <td>0.861351</td>\n",
       "      <td>50.576026</td>\n",
       "    </tr>\n",
       "    <tr>\n",
       "      <th>min</th>\n",
       "      <td>0.000000</td>\n",
       "      <td>0.000000</td>\n",
       "      <td>1.000000</td>\n",
       "      <td>0.333300</td>\n",
       "      <td>0.000000</td>\n",
       "      <td>0.000000</td>\n",
       "      <td>0.000000</td>\n",
       "    </tr>\n",
       "    <tr>\n",
       "      <th>25%</th>\n",
       "      <td>249.750000</td>\n",
       "      <td>0.000000</td>\n",
       "      <td>2.000000</td>\n",
       "      <td>21.000000</td>\n",
       "      <td>0.000000</td>\n",
       "      <td>0.000000</td>\n",
       "      <td>7.895800</td>\n",
       "    </tr>\n",
       "    <tr>\n",
       "      <th>50%</th>\n",
       "      <td>499.500000</td>\n",
       "      <td>0.000000</td>\n",
       "      <td>3.000000</td>\n",
       "      <td>27.000000</td>\n",
       "      <td>0.000000</td>\n",
       "      <td>0.000000</td>\n",
       "      <td>14.454200</td>\n",
       "    </tr>\n",
       "    <tr>\n",
       "      <th>75%</th>\n",
       "      <td>749.250000</td>\n",
       "      <td>1.000000</td>\n",
       "      <td>3.000000</td>\n",
       "      <td>38.000000</td>\n",
       "      <td>1.000000</td>\n",
       "      <td>0.000000</td>\n",
       "      <td>30.771850</td>\n",
       "    </tr>\n",
       "    <tr>\n",
       "      <th>max</th>\n",
       "      <td>999.000000</td>\n",
       "      <td>1.000000</td>\n",
       "      <td>3.000000</td>\n",
       "      <td>80.000000</td>\n",
       "      <td>8.000000</td>\n",
       "      <td>9.000000</td>\n",
       "      <td>512.329200</td>\n",
       "    </tr>\n",
       "  </tbody>\n",
       "</table>\n",
       "</div>"
      ],
      "text/plain": [
       "                ID     survived       pclass         age        sibsp  \\\n",
       "count  1000.000000  1000.000000  1000.000000  797.000000  1000.000000   \n",
       "mean    499.500000     0.393000     2.312000   29.342535     0.503000   \n",
       "std     288.819436     0.488661     0.832676   14.408116     1.029102   \n",
       "min       0.000000     0.000000     1.000000    0.333300     0.000000   \n",
       "25%     249.750000     0.000000     2.000000   21.000000     0.000000   \n",
       "50%     499.500000     0.000000     3.000000   27.000000     0.000000   \n",
       "75%     749.250000     1.000000     3.000000   38.000000     1.000000   \n",
       "max     999.000000     1.000000     3.000000   80.000000     8.000000   \n",
       "\n",
       "             parch         fare  \n",
       "count  1000.000000  1000.000000  \n",
       "mean      0.396000    33.340479  \n",
       "std       0.861351    50.576026  \n",
       "min       0.000000     0.000000  \n",
       "25%       0.000000     7.895800  \n",
       "50%       0.000000    14.454200  \n",
       "75%       0.000000    30.771850  \n",
       "max       9.000000   512.329200  "
      ]
     },
     "metadata": {},
     "output_type": "display_data"
    },
    {
     "data": {
      "text/plain": [
       "ID           1000\n",
       "survived        2\n",
       "pclass          3\n",
       "name          999\n",
       "sex             2\n",
       "age            93\n",
       "sibsp           7\n",
       "parch           8\n",
       "ticket        740\n",
       "fare          248\n",
       "cabin         156\n",
       "embarked        3\n",
       "home.dest     308\n",
       "dtype: int64"
      ]
     },
     "metadata": {},
     "output_type": "display_data"
    }
   ],
   "source": [
    "display(training_data.shape)\n",
    "display(training_data.head())\n",
    "display(training_data.info())\n",
    "display(training_data.describe())\n",
    "display(training_data.nunique())"
   ]
  },
  {
   "cell_type": "code",
   "execution_count": 4,
   "metadata": {},
   "outputs": [
    {
     "data": {
      "text/plain": [
       "ID             0\n",
       "survived       0\n",
       "pclass         0\n",
       "name           0\n",
       "sex            0\n",
       "age          203\n",
       "sibsp          0\n",
       "parch          0\n",
       "ticket         0\n",
       "fare           0\n",
       "cabin        774\n",
       "embarked       2\n",
       "home.dest    446\n",
       "dtype: int64"
      ]
     },
     "execution_count": 4,
     "metadata": {},
     "output_type": "execute_result"
    }
   ],
   "source": [
    "training_data.isnull().sum(axis=0)"
   ]
  },
  {
   "cell_type": "markdown",
   "metadata": {},
   "source": [
    "Dropuji sloupce s příznaky, které nechci použít - cabin a home.dest, nepřijdou mi důležité a chybí jich příliš mnoho. Lepších výsledků jsem také dosahovala, když jsem provedla drop sloupce age, kde také chybí mnoho hodnot. Stejně tak jsem provedla drop sloupce name, který má 999 unikátních hodnot a není relevantní, a sloupce fare."
   ]
  },
  {
   "cell_type": "code",
   "execution_count": 5,
   "metadata": {
    "scrolled": true
   },
   "outputs": [],
   "source": [
    "data2 = training_data.drop(columns=['cabin','home.dest', 'age', 'name', 'fare'])"
   ]
  },
  {
   "cell_type": "markdown",
   "metadata": {},
   "source": [
    "Nahrazuji data formátu object (string) a float."
   ]
  },
  {
   "cell_type": "code",
   "execution_count": 6,
   "metadata": {},
   "outputs": [
    {
     "data": {
      "text/plain": [
       "ID          int64\n",
       "survived    int64\n",
       "pclass      int64\n",
       "sex          int8\n",
       "sibsp       int64\n",
       "parch       int64\n",
       "ticket      int16\n",
       "embarked     int8\n",
       "dtype: object"
      ]
     },
     "metadata": {},
     "output_type": "display_data"
    }
   ],
   "source": [
    "# Projděte si jednotlivé příznaky a transformujte je do vhodné podoby pro použití ve vybraném klasifikačním modelu\n",
    "cols_to_replace = data2.select_dtypes(['object']).columns\n",
    "data2[cols_to_replace] = data2[cols_to_replace].astype('category').apply(lambda x: x.cat.codes)\n",
    "\n",
    "cols_to_replace2 = data2.select_dtypes(['float64']).columns\n",
    "data2[cols_to_replace2] = data2[cols_to_replace2].astype('category').apply(lambda x: x.cat.codes)\n",
    "\n",
    "display(data2.dtypes)"
   ]
  },
  {
   "cell_type": "code",
   "execution_count": 22,
   "metadata": {},
   "outputs": [],
   "source": [
    "# zvlast si dam vysvetlovanou promennou\n",
    "Xdata = data2.iloc[:, data2.columns != 'survived']\n",
    "Ydata = data2.iloc[:, data2.columns == 'survived']"
   ]
  },
  {
   "cell_type": "code",
   "execution_count": 23,
   "metadata": {},
   "outputs": [],
   "source": [
    "# rozdeleni na trenovaci, testovaci a validacni data\n",
    "rd_seed = 333\n",
    "Xtrain, Xtest, Ytrain, Ytest = train_test_split(Xdata, Ydata, test_size=0.4, random_state=rd_seed)"
   ]
  },
  {
   "cell_type": "markdown",
   "metadata": {},
   "source": [
    "U všech následujících modelů jsem provedla křížovou validaci."
   ]
  },
  {
   "cell_type": "markdown",
   "metadata": {},
   "source": [
    "### 1. Rozhodovací strom"
   ]
  },
  {
   "cell_type": "code",
   "execution_count": 42,
   "metadata": {},
   "outputs": [],
   "source": [
    "# 1. naladime parametry a zkousime, ktere hodnoty budou nejlepsi\n",
    "param_grid = {\n",
    "    'max_depth': range(1, 51),\n",
    "    'criterion': ['entropy', 'gini']\n",
    "}\n",
    "param_combinations = ParameterGrid(param_grid)\n",
    "k_folds = 20"
   ]
  },
  {
   "cell_type": "code",
   "execution_count": 43,
   "metadata": {},
   "outputs": [],
   "source": [
    "for parameters in param_combinations:\n",
    "    comb_acc = []\n",
    "    # 1. rozdeleni na trenovaci a validacni\n",
    "    for train, val in KFold(n_splits = k_folds, random_state = rd_seed, shuffle = True).split(data2.index):\n",
    "        Xtrain = data2[data2.index.isin(train)].drop(columns='survived')\n",
    "        Ytrain = data2[data2.index.isin(train)]['survived']\n",
    "        Xval = data2[data2.index.isin(val)].drop(columns='survived')\n",
    "        Yval = data2[data2.index.isin(val)]['survived']\n",
    "        \n",
    "        # 2. trenink modelu\n",
    "        model = DecisionTreeClassifier(**parameters)\n",
    "        model.fit(Xtrain, Ytrain)\n",
    "        # 3. validacni chyba\n",
    "        comb_acc.append(metrics.accuracy_score(Yval, model.predict(Xval)))\n",
    "\n"
   ]
  },
  {
   "cell_type": "code",
   "execution_count": 44,
   "metadata": {},
   "outputs": [
    {
     "name": "stdout",
     "output_type": "stream",
     "text": [
      "Best parameters: {'max_depth': 14, 'criterion': 'entropy'}\n",
      "Best accuracy: 0.82\n"
     ]
    }
   ],
   "source": [
    "best_params = param_combinations[np.argmax(comb_acc)]\n",
    "print(\"Best parameters: \" + str(best_params))\n",
    "print(\"Best accuracy: \" + str(comb_acc[np.argmax(comb_acc)]))"
   ]
  },
  {
   "cell_type": "markdown",
   "metadata": {},
   "source": [
    "### 2. Random Forest"
   ]
  },
  {
   "cell_type": "code",
   "execution_count": 12,
   "metadata": {},
   "outputs": [],
   "source": [
    "param_grid2 = {\n",
    "    'n_estimators': range(1, 100, 5), # pocet stromu v lese\n",
    "    'max_depth': range(1, 10)\n",
    "}\n",
    "param_combinations2 = ParameterGrid(param_grid2)\n",
    "k_folds = 5"
   ]
  },
  {
   "cell_type": "code",
   "execution_count": 13,
   "metadata": {},
   "outputs": [],
   "source": [
    "for parameters in param_combinations2:\n",
    "    comb_acc2 = []\n",
    "    # 1. rozdeleni na trenovaci a validacni\n",
    "    for train, val in KFold(n_splits = k_folds, random_state = rd_seed, shuffle = True).split(data2.index):\n",
    "        Xtrain = data2[data2.index.isin(train)].drop(columns='survived')\n",
    "        Ytrain = data2[data2.index.isin(train)]['survived']\n",
    "        Xval = data2[data2.index.isin(val)].drop(columns='survived')\n",
    "        Yval = data2[data2.index.isin(val)]['survived']\n",
    "        # 2. trenink modelu\n",
    "        model2 = RandomForestClassifier(**parameters)\n",
    "        model2.fit(Xtrain, Ytrain.values.ravel())\n",
    "        # 3. validacni chyba\n",
    "        comb_acc2.append(metrics.accuracy_score(Yval, model2.predict(Xval)))"
   ]
  },
  {
   "cell_type": "code",
   "execution_count": 14,
   "metadata": {},
   "outputs": [
    {
     "name": "stdout",
     "output_type": "stream",
     "text": [
      "Best parameters: {'n_estimators': 11, 'max_depth': 1}\n",
      "Best accuracy: 0.83\n"
     ]
    }
   ],
   "source": [
    "best_params2 = param_combinations2[np.argmax(comb_acc2)]\n",
    "print(\"Best parameters: \" + str(best_params2))\n",
    "print(\"Best accuracy: \" + str(comb_acc2[np.argmax(comb_acc2)]))"
   ]
  },
  {
   "cell_type": "markdown",
   "metadata": {},
   "source": [
    "### 3. AdaBoost"
   ]
  },
  {
   "cell_type": "code",
   "execution_count": 15,
   "metadata": {},
   "outputs": [],
   "source": [
    "param_grid3 = {\n",
    "    'n_estimators': range(1,100,5),\n",
    "    'learning_rate': [0.01, 0.05, 0.1, 0.3, 0.5, 0.7, 0.75, 1]\n",
    "}\n",
    "param_combinations3 = ParameterGrid(param_grid3)\n",
    "k_folds = 5"
   ]
  },
  {
   "cell_type": "code",
   "execution_count": 16,
   "metadata": {},
   "outputs": [],
   "source": [
    "for parameters in param_combinations3:\n",
    "    comb_acc3 = []\n",
    "    # 1. rozdeleni na trenovaci a validacni\n",
    "    for train, val in KFold(n_splits = k_folds, random_state = rd_seed, shuffle = True).split(data2.index):\n",
    "        Xtrain = data2[data2.index.isin(train)].drop(columns='survived')\n",
    "        Ytrain = data2[data2.index.isin(train)]['survived']\n",
    "        Xval = data2[data2.index.isin(val)].drop(columns='survived')\n",
    "        Yval = data2[data2.index.isin(val)]['survived']\n",
    "        # 2. trenink modelu\n",
    "        model3 = AdaBoostClassifier(**parameters)\n",
    "        model3.fit(Xtrain, Ytrain.values.ravel())\n",
    "        # 3. validacni chyba\n",
    "        comb_acc3.append(metrics.accuracy_score(Yval, model3.predict(Xval)))"
   ]
  },
  {
   "cell_type": "code",
   "execution_count": 17,
   "metadata": {},
   "outputs": [
    {
     "name": "stdout",
     "output_type": "stream",
     "text": [
      "Best parameters: {'n_estimators': 16, 'learning_rate': 0.01}\n",
      "Best accuracy: 0.7\n"
     ]
    }
   ],
   "source": [
    "best_params3 = param_combinations3[np.argmax(comb_acc3)]\n",
    "print(\"Best parameters: \" + str(best_params3))\n",
    "print(\"Best accuracy: \" + str(comb_acc[np.argmax(comb_acc3)]))"
   ]
  },
  {
   "cell_type": "markdown",
   "metadata": {},
   "source": [
    "### 4. kNN"
   ]
  },
  {
   "cell_type": "code",
   "execution_count": 18,
   "metadata": {},
   "outputs": [],
   "source": [
    "param_grid = {\n",
    "    'n_neighbors' : range(1, 12),\n",
    "    'p': range(1, 3),\n",
    "    'weights': ['uniform', 'distance'],\n",
    "}\n",
    "param_combinations4 = ParameterGrid(param_grid)\n",
    "k_folds = 5"
   ]
  },
  {
   "cell_type": "code",
   "execution_count": 71,
   "metadata": {},
   "outputs": [],
   "source": [
    "for parameters in param_combinations4:\n",
    "    comb_acc4 = []\n",
    "    # 1. rozdeleni na trenovaci a validacni\n",
    "    for train, val in KFold(n_splits = k_folds, random_state = rd_seed, shuffle = True).split(data2.index):\n",
    "        Xtrain = data2[data2.index.isin(train)].drop(columns='survived')\n",
    "        Ytrain = data2[data2.index.isin(train)]['survived']\n",
    "        Xval = data2[data2.index.isin(val)].drop(columns='survived')\n",
    "        Yval = data2[data2.index.isin(val)]['survived']\n",
    "        \n",
    "        scaler = MinMaxScaler()\n",
    "        Xtrain = pd.DataFrame(scaler.fit_transform(Xtrain), index=Xtrain.index, columns=Xtrain.columns)\n",
    "        Xval = pd.DataFrame(scaler.transform(Xval), index=Xval.index, columns=Xval.columns)\n",
    "\n",
    "        # 2. trenink modelu\n",
    "        model4 = KNeighborsClassifier(**parameters)\n",
    "        model4.fit(Xtrain, Ytrain.values.ravel())\n",
    "        # 3. validacni chyba\n",
    "        comb_acc4.append(metrics.accuracy_score(Yval, model4.predict(Xval)))"
   ]
  },
  {
   "cell_type": "code",
   "execution_count": 72,
   "metadata": {
    "scrolled": true
   },
   "outputs": [
    {
     "name": "stdout",
     "output_type": "stream",
     "text": [
      "Best parameters: {'weights': 'uniform', 'p': 1, 'n_neighbors': 3}\n",
      "Best accuracy: 0.92\n"
     ]
    }
   ],
   "source": [
    "best_params4 = param_combinations4[np.argmax(comb_acc4)]\n",
    "print(\"Best parameters: \" + str(best_params4))\n",
    "print(\"Best accuracy: \" + str(comb_acc4[np.argmax(comb_acc4)]))"
   ]
  },
  {
   "cell_type": "markdown",
   "metadata": {},
   "source": [
    "### Výběr nejlepšího modelu\n",
    "Na základě nejlepších přesností na validační množině jsem za nejlepší metodu určila kNN. Nyní tedy provedu trénink  a měření přesnosti tohoto modelu na testovací množině."
   ]
  },
  {
   "cell_type": "code",
   "execution_count": 75,
   "metadata": {},
   "outputs": [
    {
     "name": "stdout",
     "output_type": "stream",
     "text": [
      "Accuracy on testing data: 0.61\n"
     ]
    }
   ],
   "source": [
    "k_neighbors = KNeighborsClassifier(**best_params4)\n",
    "k_neighbors.fit(Xtrain, Ytrain.values.ravel())\n",
    "print(\"Accuracy on testing data: \" + str(metrics.accuracy_score(Ytest, k_neighbors.predict(Xtest))))"
   ]
  },
  {
   "cell_type": "markdown",
   "metadata": {},
   "source": [
    "### Predikce přežití na souboru evaluation.csv\n",
    "Pro predikci tedy použiji kNN a nejlepší parametry, které jsem získala."
   ]
  },
  {
   "cell_type": "code",
   "execution_count": 25,
   "metadata": {},
   "outputs": [
    {
     "data": {
      "text/html": [
       "<div>\n",
       "<style scoped>\n",
       "    .dataframe tbody tr th:only-of-type {\n",
       "        vertical-align: middle;\n",
       "    }\n",
       "\n",
       "    .dataframe tbody tr th {\n",
       "        vertical-align: top;\n",
       "    }\n",
       "\n",
       "    .dataframe thead th {\n",
       "        text-align: right;\n",
       "    }\n",
       "</style>\n",
       "<table border=\"1\" class=\"dataframe\">\n",
       "  <thead>\n",
       "    <tr style=\"text-align: right;\">\n",
       "      <th></th>\n",
       "      <th>ID</th>\n",
       "      <th>pclass</th>\n",
       "      <th>sex</th>\n",
       "      <th>sibsp</th>\n",
       "      <th>parch</th>\n",
       "      <th>ticket</th>\n",
       "      <th>embarked</th>\n",
       "    </tr>\n",
       "  </thead>\n",
       "  <tbody>\n",
       "    <tr>\n",
       "      <th>0</th>\n",
       "      <td>1000</td>\n",
       "      <td>2</td>\n",
       "      <td>female</td>\n",
       "      <td>2</td>\n",
       "      <td>1</td>\n",
       "      <td>243847</td>\n",
       "      <td>S</td>\n",
       "    </tr>\n",
       "    <tr>\n",
       "      <th>1</th>\n",
       "      <td>1001</td>\n",
       "      <td>2</td>\n",
       "      <td>female</td>\n",
       "      <td>1</td>\n",
       "      <td>1</td>\n",
       "      <td>237789</td>\n",
       "      <td>S</td>\n",
       "    </tr>\n",
       "    <tr>\n",
       "      <th>2</th>\n",
       "      <td>1002</td>\n",
       "      <td>2</td>\n",
       "      <td>male</td>\n",
       "      <td>1</td>\n",
       "      <td>0</td>\n",
       "      <td>28664</td>\n",
       "      <td>S</td>\n",
       "    </tr>\n",
       "    <tr>\n",
       "      <th>3</th>\n",
       "      <td>1003</td>\n",
       "      <td>3</td>\n",
       "      <td>female</td>\n",
       "      <td>1</td>\n",
       "      <td>0</td>\n",
       "      <td>376566</td>\n",
       "      <td>S</td>\n",
       "    </tr>\n",
       "    <tr>\n",
       "      <th>4</th>\n",
       "      <td>1004</td>\n",
       "      <td>2</td>\n",
       "      <td>female</td>\n",
       "      <td>1</td>\n",
       "      <td>0</td>\n",
       "      <td>24065</td>\n",
       "      <td>S</td>\n",
       "    </tr>\n",
       "    <tr>\n",
       "      <th>...</th>\n",
       "      <td>...</td>\n",
       "      <td>...</td>\n",
       "      <td>...</td>\n",
       "      <td>...</td>\n",
       "      <td>...</td>\n",
       "      <td>...</td>\n",
       "      <td>...</td>\n",
       "    </tr>\n",
       "    <tr>\n",
       "      <th>304</th>\n",
       "      <td>1304</td>\n",
       "      <td>3</td>\n",
       "      <td>female</td>\n",
       "      <td>0</td>\n",
       "      <td>0</td>\n",
       "      <td>329944</td>\n",
       "      <td>Q</td>\n",
       "    </tr>\n",
       "    <tr>\n",
       "      <th>305</th>\n",
       "      <td>1305</td>\n",
       "      <td>3</td>\n",
       "      <td>male</td>\n",
       "      <td>0</td>\n",
       "      <td>0</td>\n",
       "      <td>1601</td>\n",
       "      <td>S</td>\n",
       "    </tr>\n",
       "    <tr>\n",
       "      <th>306</th>\n",
       "      <td>1306</td>\n",
       "      <td>3</td>\n",
       "      <td>male</td>\n",
       "      <td>0</td>\n",
       "      <td>0</td>\n",
       "      <td>2698</td>\n",
       "      <td>C</td>\n",
       "    </tr>\n",
       "    <tr>\n",
       "      <th>307</th>\n",
       "      <td>1307</td>\n",
       "      <td>1</td>\n",
       "      <td>female</td>\n",
       "      <td>1</td>\n",
       "      <td>1</td>\n",
       "      <td>36928</td>\n",
       "      <td>S</td>\n",
       "    </tr>\n",
       "    <tr>\n",
       "      <th>308</th>\n",
       "      <td>1308</td>\n",
       "      <td>2</td>\n",
       "      <td>male</td>\n",
       "      <td>0</td>\n",
       "      <td>0</td>\n",
       "      <td>239865</td>\n",
       "      <td>S</td>\n",
       "    </tr>\n",
       "  </tbody>\n",
       "</table>\n",
       "<p>309 rows × 7 columns</p>\n",
       "</div>"
      ],
      "text/plain": [
       "       ID  pclass     sex  sibsp  parch  ticket embarked\n",
       "0    1000       2  female      2      1  243847        S\n",
       "1    1001       2  female      1      1  237789        S\n",
       "2    1002       2    male      1      0   28664        S\n",
       "3    1003       3  female      1      0  376566        S\n",
       "4    1004       2  female      1      0   24065        S\n",
       "..    ...     ...     ...    ...    ...     ...      ...\n",
       "304  1304       3  female      0      0  329944        Q\n",
       "305  1305       3    male      0      0    1601        S\n",
       "306  1306       3    male      0      0    2698        C\n",
       "307  1307       1  female      1      1   36928        S\n",
       "308  1308       2    male      0      0  239865        S\n",
       "\n",
       "[309 rows x 7 columns]"
      ]
     },
     "metadata": {},
     "output_type": "display_data"
    },
    {
     "data": {
      "text/plain": [
       "ID           int64\n",
       "pclass       int64\n",
       "sex         object\n",
       "sibsp        int64\n",
       "parch        int64\n",
       "ticket      object\n",
       "embarked    object\n",
       "dtype: object"
      ]
     },
     "metadata": {},
     "output_type": "display_data"
    }
   ],
   "source": [
    "# data neobsahuji vysvetlovanou promennou - sloupec 'survived'\n",
    "evaluating_data = pd.read_csv('evaluation.csv')\n",
    "final_data = evaluating_data.drop(columns=['cabin','home.dest', 'age', 'name', 'fare'])\n",
    "display(final_data)\n",
    "display(final_data.dtypes)"
   ]
  },
  {
   "cell_type": "code",
   "execution_count": 26,
   "metadata": {},
   "outputs": [],
   "source": [
    "cols_to_replace = final_data.select_dtypes(['object']).columns\n",
    "final_data[cols_to_replace] = final_data[cols_to_replace].astype('category').apply(lambda x: x.cat.codes)"
   ]
  },
  {
   "cell_type": "code",
   "execution_count": 27,
   "metadata": {},
   "outputs": [],
   "source": [
    "X_final = final_data.iloc[:, :]"
   ]
  },
  {
   "cell_type": "code",
   "execution_count": 77,
   "metadata": {},
   "outputs": [],
   "source": [
    "final_prediction = k_neighbors.predict(X_final)\n",
    "d = {'ID': X_final['ID'], 'survived': final_prediction}\n",
    "prediction = pd.DataFrame(data=d).to_csv('results.csv', index=False)"
   ]
  }
 ],
 "metadata": {
  "kernelspec": {
   "display_name": "Python 3",
   "language": "python",
   "name": "python3"
  },
  "language_info": {
   "codemirror_mode": {
    "name": "ipython",
    "version": 3
   },
   "file_extension": ".py",
   "mimetype": "text/x-python",
   "name": "python",
   "nbconvert_exporter": "python",
   "pygments_lexer": "ipython3",
   "version": "3.8.3"
  }
 },
 "nbformat": 4,
 "nbformat_minor": 4
}
